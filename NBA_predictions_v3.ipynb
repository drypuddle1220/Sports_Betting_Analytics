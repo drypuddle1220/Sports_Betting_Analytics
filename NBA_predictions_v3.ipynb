{
  "nbformat": 4,
  "nbformat_minor": 0,
  "metadata": {
    "colab": {
      "provenance": [],
      "authorship_tag": "ABX9TyNG3zSSOxg8IQtd28hEuiDP",
      "include_colab_link": true
    },
    "kernelspec": {
      "name": "python3",
      "display_name": "Python 3"
    },
    "language_info": {
      "name": "python"
    }
  },
  "cells": [
    {
      "cell_type": "markdown",
      "metadata": {
        "id": "view-in-github",
        "colab_type": "text"
      },
      "source": [
        "<a href=\"https://colab.research.google.com/github/drypuddle1220/Sports_Betting_Analytics/blob/main/NBA_predictions_v3.ipynb\" target=\"_parent\"><img src=\"https://colab.research.google.com/assets/colab-badge.svg\" alt=\"Open In Colab\"/></a>"
      ]
    },
    {
      "cell_type": "code",
      "execution_count": 1,
      "metadata": {
        "colab": {
          "base_uri": "https://localhost:8080/"
        },
        "id": "IKnMaWvWlvIq",
        "outputId": "c1bae0c7-18ca-45db-ba6d-701820b932ec"
      },
      "outputs": [
        {
          "output_type": "stream",
          "name": "stdout",
          "text": [
            "   SEASON_ID     TEAM_ID TEAM_ABBREVIATION      TEAM_NAME   GAME_ID  \\\n",
            "0      22019  1610612737               ATL  Atlanta Hawks  21900491   \n",
            "1      22019  1610612737               ATL  Atlanta Hawks  21900477   \n",
            "2      22019  1610612737               ATL  Atlanta Hawks  21900469   \n",
            "3      22019  1610612737               ATL  Atlanta Hawks  21900444   \n",
            "4      22019  1610612737               ATL  Atlanta Hawks  21900431   \n",
            "\n",
            "    GAME_DATE      MATCHUP WL  MIN  PTS  ...  AST   STL  BLK  TOV  PF  \\\n",
            "0  2019-12-30    ATL @ ORL  W  240  101  ...   21   8.0    4   20  20   \n",
            "1  2019-12-28    ATL @ CHI  L  239   81  ...   24   8.0    5   19  16   \n",
            "2  2019-12-27  ATL vs. MIL  L  239   86  ...   20  10.0    8   18  18   \n",
            "3  2019-12-23    ATL @ CLE  L  239  118  ...   23  11.0    7   16  20   \n",
            "4  2019-12-21    ATL @ BKN  L  240  112  ...   17   7.0    5   10  22   \n",
            "\n",
            "   PLUS_MINUS  Total_Pts   injury_pot   avg_pace      agr_off  \n",
            "0         8.0      210.0   897.697449  45.595952   965.250000  \n",
            "1       -35.0      127.0   318.286035  39.351542   951.062500  \n",
            "2       -26.0      146.0     0.000000  42.174058   893.422917  \n",
            "3        -3.0      233.0  1280.050975  53.901478  1017.227083  \n",
            "4       -10.0      214.0  1222.278910  59.075175   999.222917  \n",
            "\n",
            "[5 rows x 32 columns]\n"
          ]
        }
      ],
      "source": [
        "# prompt: read final_df.csv\n",
        "\n",
        "import pandas as pd\n",
        "\n",
        "# Assuming 'final_df.csv' is in the current working directory.\n",
        "# If not, provide the full path to the file.\n",
        "try:\n",
        "    df = pd.read_csv('final_df.csv')\n",
        "    print(df.head()) # Print the first few rows to verify\n",
        "except FileNotFoundError:\n",
        "    print(\"Error: 'final_df.csv' not found. Please check the file path.\")\n",
        "except Exception as e:\n",
        "    print(f\"An error occurred: {e}\")\n"
      ]
    },
    {
      "cell_type": "code",
      "source": [
        "df.columns"
      ],
      "metadata": {
        "colab": {
          "base_uri": "https://localhost:8080/"
        },
        "id": "mo-4FaaEnXPp",
        "outputId": "dd1df80a-67e1-4b88-9677-c954526858ea"
      },
      "execution_count": 2,
      "outputs": [
        {
          "output_type": "execute_result",
          "data": {
            "text/plain": [
              "Index(['SEASON_ID', 'TEAM_ID', 'TEAM_ABBREVIATION', 'TEAM_NAME', 'GAME_ID',\n",
              "       'GAME_DATE', 'MATCHUP', 'WL', 'MIN', 'PTS', 'FGM', 'FGA', 'FG_PCT',\n",
              "       'FG3M', 'FG3A', 'FG3_PCT', 'FTM', 'FTA', 'FT_PCT', 'OREB', 'DREB',\n",
              "       'REB', 'AST', 'STL', 'BLK', 'TOV', 'PF', 'PLUS_MINUS', 'Total_Pts',\n",
              "       'injury_pot', 'avg_pace', 'agr_off'],\n",
              "      dtype='object')"
            ]
          },
          "metadata": {},
          "execution_count": 2
        }
      ]
    },
    {
      "cell_type": "code",
      "source": [],
      "metadata": {
        "id": "Wc0HgdpbM7Ml"
      },
      "execution_count": null,
      "outputs": []
    },
    {
      "cell_type": "code",
      "source": [
        "from datetime import datetime, timedelta\n",
        "\n",
        "# Convert 'GAME_DATE' to datetime\n",
        "df['GAME_DATE'] = pd.to_datetime(df['GAME_DATE'])\n",
        "stat_columns = [ 'PTS', 'FGM', 'FGA', 'FG_PCT',\n",
        "       'FG3M', 'FG3A', 'FG3_PCT', 'FTM', 'FTA', 'FT_PCT', 'OREB', 'DREB',\n",
        "       'REB', 'AST', 'STL', 'BLK', 'TOV', 'PF', 'PLUS_MINUS']\n",
        "for col in stat_columns:\n",
        "    df[f'avg_{col}_20_games'] = 0.0\n",
        "\n",
        "# Initialize new columns\n",
        "df['games_past_7_days_team'] = 0\n",
        "\n",
        "# Calculate games played in the past 7 days for each row\n",
        "for index, row in df.iterrows():\n",
        "    team = row['TEAM_NAME']\n",
        "    game_date = row['GAME_DATE']\n",
        "    start_date = game_date - timedelta(days=7)\n",
        "\n",
        "    # Count games for the same team in the past 7 days\n",
        "    count_7days = df[(df['TEAM_NAME'] == team) &\n",
        "               (df['GAME_DATE'] >= start_date) &\n",
        "               (df['GAME_DATE'] < game_date)].shape[0]\n",
        "    if count_7days < 5:\n",
        "      df.at[index, 'games_to5'] = 'N'\n",
        "    else:\n",
        "      df.at[index, 'games_past_7_days_team'] = 'Y'\n",
        "\n",
        "    past_20_games = df[(df['TEAM_NAME'] == team) & (df['GAME_DATE'] < game_date)].nlargest(20, 'GAME_DATE')\n",
        "    wins = past_20_games[past_20_games['WL'] == 'W'].shape[0]\n",
        "    total_games_20 = past_20_games.shape[0]\n",
        "    win_loss_ratio = wins / total_games_20 if total_games_20 > 0 else 0\n",
        "    df.at[index, 'win_loss_ratio_20_games'] = win_loss_ratio\n",
        "\n",
        "    # Calculate averages for the stat columns\n",
        "    for col in stat_columns:\n",
        "        avg_value = past_20_games[col].mean() if not past_20_games.empty else 0\n",
        "        df.at[index, f'avg_{col}_20_games'] = avg_value\n",
        "\n",
        "print(df)"
      ],
      "metadata": {
        "colab": {
          "base_uri": "https://localhost:8080/"
        },
        "collapsed": true,
        "id": "Fi1eKyTLmIRF",
        "outputId": "5bf7ba33-be1d-4e57-e391-ef11330a2b55"
      },
      "execution_count": null,
      "outputs": [
        {
          "output_type": "stream",
          "name": "stderr",
          "text": [
            "<ipython-input-3-6a51f8279a17>:27: FutureWarning: Setting an item of incompatible dtype is deprecated and will raise an error in a future version of pandas. Value 'Y' has dtype incompatible with int64, please explicitly cast to a compatible dtype first.\n",
            "  df.at[index, 'games_past_7_days_team'] = 'Y'\n"
          ]
        },
        {
          "output_type": "stream",
          "name": "stdout",
          "text": [
            "      SEASON_ID     TEAM_ID TEAM_ABBREVIATION          TEAM_NAME   GAME_ID  \\\n",
            "0         22019  1610612737               ATL      Atlanta Hawks  21900491   \n",
            "1         22019  1610612737               ATL      Atlanta Hawks  21900477   \n",
            "2         22019  1610612737               ATL      Atlanta Hawks  21900469   \n",
            "3         22019  1610612737               ATL      Atlanta Hawks  21900444   \n",
            "4         22019  1610612737               ATL      Atlanta Hawks  21900431   \n",
            "...         ...         ...               ...                ...       ...   \n",
            "5807      22017  1610612766               CHA  Charlotte Hornets  21700629   \n",
            "5808      22017  1610612766               CHA  Charlotte Hornets  21700618   \n",
            "5809      22017  1610612766               CHA  Charlotte Hornets  21700603   \n",
            "5810      22017  1610612766               CHA  Charlotte Hornets  21700577   \n",
            "5811      22017  1610612766               CHA  Charlotte Hornets  21700552   \n",
            "\n",
            "      GAME_DATE      MATCHUP WL  MIN  PTS  ...  avg_REB_20_games  \\\n",
            "0    2019-12-30    ATL @ ORL  W  240  101  ...             41.20   \n",
            "1    2019-12-28    ATL @ CHI  L  239   81  ...             41.10   \n",
            "2    2019-12-27  ATL vs. MIL  L  239   86  ...             40.70   \n",
            "3    2019-12-23    ATL @ CLE  L  239  118  ...             41.30   \n",
            "4    2019-12-21    ATL @ BKN  L  240  112  ...             40.95   \n",
            "...         ...          ... ..  ...  ...  ...               ...   \n",
            "5807 2018-01-13  CHA vs. OKC  L  242   91  ...             43.75   \n",
            "5808 2018-01-12  CHA vs. UTA  W  241   99  ...             43.00   \n",
            "5809 2018-01-10  CHA vs. DAL  L  241  111  ...             43.00   \n",
            "5810 2018-01-05    CHA @ LAL  W  241  108  ...             30.00   \n",
            "5811 2018-01-02    CHA @ SAC  W  240  131  ...              0.00   \n",
            "\n",
            "      avg_AST_20_games  avg_STL_20_games  avg_BLK_20_games  avg_TOV_20_games  \\\n",
            "0            23.600000          7.950000          4.750000         15.900000   \n",
            "1            23.200000          8.100000          4.600000         15.850000   \n",
            "2            23.150000          8.150000          4.700000         15.900000   \n",
            "3            23.250000          8.350000          4.600000         16.200000   \n",
            "4            23.900000          8.050000          4.600000         16.400000   \n",
            "...                ...               ...               ...               ...   \n",
            "5807         21.000000          7.750000          3.250000         10.000000   \n",
            "5808         22.333333          7.666667          3.666667          9.333333   \n",
            "5809         25.500000          8.500000          3.000000          8.500000   \n",
            "5810         25.000000          7.000000          3.000000          3.000000   \n",
            "5811          0.000000          0.000000          0.000000          0.000000   \n",
            "\n",
            "      avg_PF_20_games  avg_PLUS_MINUS_20_games  games_past_7_days_team  \\\n",
            "0           22.000000                   -12.10                       0   \n",
            "1           22.150000                   -11.40                       0   \n",
            "2           22.600000                   -12.55                       0   \n",
            "3           23.150000                   -13.20                       0   \n",
            "4           23.100000                   -12.50                       0   \n",
            "...               ...                      ...                     ...   \n",
            "5807        18.000000                    10.25                       0   \n",
            "5808        17.666667                    10.00                       0   \n",
            "5809        15.500000                    17.00                       0   \n",
            "5810        14.000000                    20.00                       0   \n",
            "5811         0.000000                     0.00                       0   \n",
            "\n",
            "      games_to5  win_loss_ratio_20_games  \n",
            "0             N                 0.100000  \n",
            "1             N                 0.100000  \n",
            "2             N                 0.100000  \n",
            "3             N                 0.100000  \n",
            "4             N                 0.150000  \n",
            "...         ...                      ...  \n",
            "5807          N                 0.750000  \n",
            "5808          N                 0.666667  \n",
            "5809          N                 1.000000  \n",
            "5810          N                 1.000000  \n",
            "5811          N                 0.000000  \n",
            "\n",
            "[5812 rows x 54 columns]\n"
          ]
        }
      ]
    },
    {
      "cell_type": "code",
      "source": [
        "df.columns"
      ],
      "metadata": {
        "colab": {
          "base_uri": "https://localhost:8080/"
        },
        "id": "dNDZu2tSmJu6",
        "outputId": "13fb5877-7d48-487a-e8ce-5e9de2c7149c"
      },
      "execution_count": null,
      "outputs": [
        {
          "output_type": "execute_result",
          "data": {
            "text/plain": [
              "Index(['SEASON_ID', 'TEAM_ID', 'TEAM_ABBREVIATION', 'TEAM_NAME', 'GAME_ID',\n",
              "       'GAME_DATE', 'MATCHUP', 'WL', 'MIN', 'PTS', 'FGM', 'FGA', 'FG_PCT',\n",
              "       'FG3M', 'FG3A', 'FG3_PCT', 'FTM', 'FTA', 'FT_PCT', 'OREB', 'DREB',\n",
              "       'REB', 'AST', 'STL', 'BLK', 'TOV', 'PF', 'PLUS_MINUS', 'Total_Pts',\n",
              "       'injury_pot', 'avg_pace', 'agr_off', 'avg_PTS_20_games',\n",
              "       'avg_FGM_20_games', 'avg_FGA_20_games', 'avg_FG_PCT_20_games',\n",
              "       'avg_FG3M_20_games', 'avg_FG3A_20_games', 'avg_FG3_PCT_20_games',\n",
              "       'avg_FTM_20_games', 'avg_FTA_20_games', 'avg_FT_PCT_20_games',\n",
              "       'avg_OREB_20_games', 'avg_DREB_20_games', 'avg_REB_20_games',\n",
              "       'avg_AST_20_games', 'avg_STL_20_games', 'avg_BLK_20_games',\n",
              "       'avg_TOV_20_games', 'avg_PF_20_games', 'avg_PLUS_MINUS_20_games',\n",
              "       'games_past_7_days_team', 'games_to5', 'win_loss_ratio_20_games'],\n",
              "      dtype='object')"
            ]
          },
          "metadata": {},
          "execution_count": 5
        }
      ]
    },
    {
      "cell_type": "code",
      "source": [
        "# prompt: export df into a csv\n",
        "\n",
        "from google.colab import files\n",
        "df.to_csv('exported_df.csv', encoding = 'utf-8-sig')\n",
        "files.download('exported_df.csv')"
      ],
      "metadata": {
        "id": "34caxcS4oBrI",
        "colab": {
          "base_uri": "https://localhost:8080/",
          "height": 34
        },
        "outputId": "47ecec19-ad9e-4014-a772-f7dcbdee771f"
      },
      "execution_count": null,
      "outputs": [
        {
          "output_type": "display_data",
          "data": {
            "text/plain": [
              "<IPython.core.display.Javascript object>"
            ],
            "application/javascript": [
              "\n",
              "    async function download(id, filename, size) {\n",
              "      if (!google.colab.kernel.accessAllowed) {\n",
              "        return;\n",
              "      }\n",
              "      const div = document.createElement('div');\n",
              "      const label = document.createElement('label');\n",
              "      label.textContent = `Downloading \"${filename}\": `;\n",
              "      div.appendChild(label);\n",
              "      const progress = document.createElement('progress');\n",
              "      progress.max = size;\n",
              "      div.appendChild(progress);\n",
              "      document.body.appendChild(div);\n",
              "\n",
              "      const buffers = [];\n",
              "      let downloaded = 0;\n",
              "\n",
              "      const channel = await google.colab.kernel.comms.open(id);\n",
              "      // Send a message to notify the kernel that we're ready.\n",
              "      channel.send({})\n",
              "\n",
              "      for await (const message of channel.messages) {\n",
              "        // Send a message to notify the kernel that we're ready.\n",
              "        channel.send({})\n",
              "        if (message.buffers) {\n",
              "          for (const buffer of message.buffers) {\n",
              "            buffers.push(buffer);\n",
              "            downloaded += buffer.byteLength;\n",
              "            progress.value = downloaded;\n",
              "          }\n",
              "        }\n",
              "      }\n",
              "      const blob = new Blob(buffers, {type: 'application/binary'});\n",
              "      const a = document.createElement('a');\n",
              "      a.href = window.URL.createObjectURL(blob);\n",
              "      a.download = filename;\n",
              "      div.appendChild(a);\n",
              "      a.click();\n",
              "      div.remove();\n",
              "    }\n",
              "  "
            ]
          },
          "metadata": {}
        },
        {
          "output_type": "display_data",
          "data": {
            "text/plain": [
              "<IPython.core.display.Javascript object>"
            ],
            "application/javascript": [
              "download(\"download_68de9c3e-8f89-45ec-9873-4a9dc6322bd0\", \"exported_df.csv\", 2082470)"
            ]
          },
          "metadata": {}
        }
      ]
    },
    {
      "cell_type": "code",
      "source": [],
      "metadata": {
        "id": "AK5uy7NAKayT"
      },
      "execution_count": null,
      "outputs": []
    }
  ]
}